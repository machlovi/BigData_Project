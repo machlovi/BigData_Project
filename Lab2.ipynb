{
  "nbformat": 4,
  "nbformat_minor": 0,
  "metadata": {
    "colab": {
      "name": "Lab2",
      "provenance": [],
      "collapsed_sections": [],
      "include_colab_link": true
    },
    "kernelspec": {
      "name": "python3",
      "display_name": "Python 3"
    },
    "language_info": {
      "name": "python"
    }
  },
  "cells": [
    {
      "cell_type": "markdown",
      "metadata": {
        "id": "view-in-github",
        "colab_type": "text"
      },
      "source": [
        "<a href=\"https://colab.research.google.com/github/machlovi/BigData_Project/blob/main/Lab2.ipynb\" target=\"_parent\"><img src=\"https://colab.research.google.com/assets/colab-badge.svg\" alt=\"Open In Colab\"/></a>"
      ]
    },
    {
      "cell_type": "markdown",
      "source": [
        "##QUESTION 1"
      ],
      "metadata": {
        "id": "pZlDsTPrLjVI"
      }
    },
    {
      "cell_type": "code",
      "source": [
        "!apt-get update\n",
        "!apt-get install openjdk-8-jdk-headless -qq > /dev/null\n",
        "!wget -q http://archive.apache.org/dist/spark/spark-2.3.1/spark-2.3.1-bin-hadoop2.7.tgz\n",
        "!tar xf spark-2.3.1-bin-hadoop2.7.tgz\n",
        "!pip install -q findspark\n",
        "\n",
        "import os\n",
        "os.environ[\"JAVA_HOME\"] = \"/usr/lib/jvm/java-8-openjdk-amd64\"\n",
        "os.environ[\"SPARK_HOME\"] = \"/content/spark-2.3.1-bin-hadoop2.7\"\n",
        "\n",
        "!ls\n",
        "\n",
        "import findspark\n",
        "findspark.init()\n",
        "\n",
        "import pyspark\n",
        "from pyspark.sql import SparkSession\n",
        "spark = SparkSession.builder.getOrCreate() \n",
        "spark\n"
      ],
      "metadata": {
        "colab": {
          "base_uri": "https://localhost:8080/",
          "height": 653
        },
        "id": "ougaaXlJ-Lse",
        "outputId": "86366a45-63cb-4c77-9433-2d2a9a95a8ba"
      },
      "execution_count": 20,
      "outputs": [
        {
          "output_type": "stream",
          "name": "stdout",
          "text": [
            "\r0% [Working]\r            \rGet:1 https://cloud.r-project.org/bin/linux/ubuntu bionic-cran40/ InRelease [3,626 B]\n",
            "\r0% [Connecting to archive.ubuntu.com (185.125.190.36)] [Connecting to security.\r0% [Connecting to archive.ubuntu.com (185.125.190.36)] [Connecting to security.\r0% [1 InRelease gpgv 3,626 B] [Waiting for headers] [Waiting for headers] [Wait\r                                                                               \rGet:2 http://security.ubuntu.com/ubuntu bionic-security InRelease [88.7 kB]\n",
            "Get:3 http://ppa.launchpad.net/c2d4u.team/c2d4u4.0+/ubuntu bionic InRelease [15.9 kB]\n",
            "Hit:4 http://archive.ubuntu.com/ubuntu bionic InRelease\n",
            "Ign:5 https://developer.download.nvidia.com/compute/cuda/repos/ubuntu1804/x86_64  InRelease\n",
            "Get:6 http://archive.ubuntu.com/ubuntu bionic-updates InRelease [88.7 kB]\n",
            "Ign:7 https://developer.download.nvidia.com/compute/machine-learning/repos/ubuntu1804/x86_64  InRelease\n",
            "Get:8 https://developer.download.nvidia.com/compute/cuda/repos/ubuntu1804/x86_64  Release [696 B]\n",
            "Hit:9 https://developer.download.nvidia.com/compute/machine-learning/repos/ubuntu1804/x86_64  Release\n",
            "Get:10 https://developer.download.nvidia.com/compute/cuda/repos/ubuntu1804/x86_64  Release.gpg [836 B]\n",
            "Hit:11 http://ppa.launchpad.net/cran/libgit2/ubuntu bionic InRelease\n",
            "Get:12 http://archive.ubuntu.com/ubuntu bionic-backports InRelease [74.6 kB]\n",
            "Get:13 http://ppa.launchpad.net/deadsnakes/ppa/ubuntu bionic InRelease [15.9 kB]\n",
            "Hit:14 http://ppa.launchpad.net/graphics-drivers/ppa/ubuntu bionic InRelease\n",
            "Get:15 http://ppa.launchpad.net/c2d4u.team/c2d4u4.0+/ubuntu bionic/main Sources [1,947 kB]\n",
            "Get:17 http://ppa.launchpad.net/c2d4u.team/c2d4u4.0+/ubuntu bionic/main amd64 Packages [996 kB]\n",
            "Get:18 https://developer.download.nvidia.com/compute/cuda/repos/ubuntu1804/x86_64  Packages [953 kB]\n",
            "Get:19 http://security.ubuntu.com/ubuntu bionic-security/universe amd64 Packages [1,490 kB]\n",
            "Get:20 http://security.ubuntu.com/ubuntu bionic-security/main amd64 Packages [2,695 kB]\n",
            "Get:21 http://archive.ubuntu.com/ubuntu bionic-updates/universe amd64 Packages [2,268 kB]\n",
            "Get:22 http://ppa.launchpad.net/deadsnakes/ppa/ubuntu bionic/main amd64 Packages [45.3 kB]\n",
            "Get:23 http://archive.ubuntu.com/ubuntu bionic-updates/main amd64 Packages [3,134 kB]\n",
            "Fetched 13.8 MB in 7s (2,042 kB/s)\n",
            "Reading package lists... Done\n",
            "drive  sample_data  spark-2.3.1-bin-hadoop2.7  spark-2.3.1-bin-hadoop2.7.tgz\n"
          ]
        },
        {
          "output_type": "execute_result",
          "data": {
            "text/plain": [
              "<pyspark.sql.session.SparkSession at 0x7fa2e38cbc10>"
            ],
            "text/html": [
              "\n",
              "            <div>\n",
              "                <p><b>SparkSession - in-memory</b></p>\n",
              "                \n",
              "        <div>\n",
              "            <p><b>SparkContext</b></p>\n",
              "\n",
              "            <p><a href=\"http://9b0419a1cebc:4040\">Spark UI</a></p>\n",
              "\n",
              "            <dl>\n",
              "              <dt>Version</dt>\n",
              "                <dd><code>v3.2.1</code></dd>\n",
              "              <dt>Master</dt>\n",
              "                <dd><code>local[*]</code></dd>\n",
              "              <dt>AppName</dt>\n",
              "                <dd><code>K_Means</code></dd>\n",
              "            </dl>\n",
              "        </div>\n",
              "        \n",
              "            </div>\n",
              "        "
            ]
          },
          "metadata": {},
          "execution_count": 20
        }
      ]
    },
    {
      "cell_type": "code",
      "execution_count": 6,
      "metadata": {
        "colab": {
          "base_uri": "https://localhost:8080/"
        },
        "id": "OnotkN5aLSB7",
        "outputId": "d88ee81c-df8f-4ce8-b8c4-f7233dadb9be"
      },
      "outputs": [
        {
          "output_type": "stream",
          "name": "stdout",
          "text": [
            "Mounted at /content/drive\n"
          ]
        }
      ],
      "source": [
        "from google.colab import drive\n",
        "drive.mount('/content/drive')"
      ]
    },
    {
      "cell_type": "code",
      "source": [
        "# pip install pyspark"
      ],
      "metadata": {
        "id": "j9tlXprV3Pha"
      },
      "execution_count": 22,
      "outputs": []
    },
    {
      "cell_type": "code",
      "execution_count": 23,
      "metadata": {
        "id": "MyDd0Ps20BH1"
      },
      "outputs": [],
      "source": [
        "import numpy as np\n",
        "from numpy import array\n",
        "from math import sqrt\n",
        "from pyspark.mllib.clustering import KMeans, KMeansModel\n",
        "from __future__ import print_function\n",
        "from pyspark import SparkContext, SparkConf\n",
        "import sys\n",
        "from operator import add\n",
        "from pyspark.sql import SparkSession\n",
        "import math"
      ]
    },
    {
      "cell_type": "code",
      "source": [
        "from pyspark.ml.clustering import KMeans\n",
        "from pyspark.ml.evaluation import ClusteringEvaluator\n",
        "from pyspark.sql import SparkSession\n",
        "conf = SparkConf().setAppName('K_Means')\n",
        "sc = SparkContext.getOrCreate(conf=conf)\n",
        "from pyspark.context import SparkContext\n",
        "from pyspark.sql.session import SparkSession\n",
        "df=spark.read.csv(\"/content/drive/Shareddrives/Big_Data/Lab2/shot_logs.csv\",header=True,inferSchema=True).select(['player_name','SHOT_CLOCK','CLOSE_DEF_DIST','SHOT_DIST','SHOT_RESULT'])"
      ],
      "metadata": {
        "id": "-uzhCKeJ3jG1"
      },
      "execution_count": 34,
      "outputs": []
    },
    {
      "cell_type": "code",
      "source": [
        "df.show(4)"
      ],
      "metadata": {
        "colab": {
          "base_uri": "https://localhost:8080/"
        },
        "id": "GRoB2eI_i8p0",
        "outputId": "b8325ec8-b2ce-4814-b6df-2f4f71a15fb6"
      },
      "execution_count": 35,
      "outputs": [
        {
          "output_type": "stream",
          "name": "stdout",
          "text": [
            "+-------------+----------+--------------+---------+-----------+\n",
            "|  player_name|SHOT_CLOCK|CLOSE_DEF_DIST|SHOT_DIST|SHOT_RESULT|\n",
            "+-------------+----------+--------------+---------+-----------+\n",
            "|brian roberts|      10.8|           1.3|      7.7|       made|\n",
            "|brian roberts|       3.4|           6.1|     28.2|     missed|\n",
            "|brian roberts|      null|           0.9|     10.1|     missed|\n",
            "|brian roberts|      10.3|           3.4|     17.2|     missed|\n",
            "+-------------+----------+--------------+---------+-----------+\n",
            "only showing top 4 rows\n",
            "\n"
          ]
        }
      ]
    },
    {
      "cell_type": "code",
      "source": [
        "import pandas as pd\n",
        "col=pd.read_csv('/content/drive/Shareddrives/Big_Data/Lab2/shot_logs.csv')\n",
        "s = pd.Series(col.columns)\n",
        "print(s)"
      ],
      "metadata": {
        "colab": {
          "base_uri": "https://localhost:8080/"
        },
        "id": "Kfx6Xiqv3n6X",
        "outputId": "43c88f5e-cab3-4b27-dd48-ff41f8f386fc"
      },
      "execution_count": 41,
      "outputs": [
        {
          "output_type": "stream",
          "name": "stdout",
          "text": [
            "0                        GAME_ID\n",
            "1                        MATCHUP\n",
            "2                       LOCATION\n",
            "3                              W\n",
            "4                   FINAL_MARGIN\n",
            "5                    SHOT_NUMBER\n",
            "6                         PERIOD\n",
            "7                     GAME_CLOCK\n",
            "8                     SHOT_CLOCK\n",
            "9                       DRIBBLES\n",
            "10                    TOUCH_TIME\n",
            "11                     SHOT_DIST\n",
            "12                      PTS_TYPE\n",
            "13                   SHOT_RESULT\n",
            "14              CLOSEST_DEFENDER\n",
            "15    CLOSEST_DEFENDER_PLAYER_ID\n",
            "16                CLOSE_DEF_DIST\n",
            "17                           FGM\n",
            "18                           PTS\n",
            "19                   player_name\n",
            "20                     player_id\n",
            "dtype: object\n"
          ]
        }
      ]
    },
    {
      "cell_type": "markdown",
      "source": [
        ""
      ],
      "metadata": {
        "id": "t2wN9ZtDIoXN"
      }
    },
    {
      "cell_type": "code",
      "source": [
        "df1=df.where(df.player_name=='brian roberts').dropna().replace(['made', 'missed'],['1','0'],'SHOT_RESULT')\n",
        "# df.dropna()\n",
        "# df.replace(['made', 'missed'],['1','0'],'SHOT_RESULT').show()"
      ],
      "metadata": {
        "id": "_lUGOmAnN6rp"
      },
      "execution_count": 45,
      "outputs": []
    },
    {
      "cell_type": "code",
      "source": [
        "df1.show()"
      ],
      "metadata": {
        "colab": {
          "base_uri": "https://localhost:8080/"
        },
        "id": "eKr9BAxboctU",
        "outputId": "aa89ce2b-4835-4efb-eceb-a9b79863e67a"
      },
      "execution_count": 46,
      "outputs": [
        {
          "output_type": "stream",
          "name": "stdout",
          "text": [
            "+-------------+----------+--------------+---------+-----------+\n",
            "|  player_name|SHOT_CLOCK|CLOSE_DEF_DIST|SHOT_DIST|SHOT_RESULT|\n",
            "+-------------+----------+--------------+---------+-----------+\n",
            "|brian roberts|      10.8|           1.3|      7.7|          1|\n",
            "|brian roberts|       3.4|           6.1|     28.2|          0|\n",
            "|brian roberts|      10.3|           3.4|     17.2|          0|\n",
            "|brian roberts|      10.9|           1.1|      3.7|          0|\n",
            "|brian roberts|       9.1|           2.6|     18.4|          0|\n",
            "|brian roberts|      14.5|           6.1|     20.7|          0|\n",
            "|brian roberts|       3.4|           2.1|      3.5|          1|\n",
            "|brian roberts|      12.4|           7.3|     24.6|          0|\n",
            "|brian roberts|      17.4|          19.8|     22.4|          0|\n",
            "|brian roberts|      16.0|           4.7|     24.5|          0|\n",
            "|brian roberts|      12.1|           1.8|     14.6|          1|\n",
            "|brian roberts|       4.3|           5.4|      5.9|          1|\n",
            "|brian roberts|       4.4|           4.4|     26.4|          0|\n",
            "|brian roberts|       6.8|           5.3|     22.8|          0|\n",
            "|brian roberts|       6.4|           5.6|     24.7|          1|\n",
            "|brian roberts|      17.6|           5.4|     25.0|          0|\n",
            "|brian roberts|       8.7|           5.1|     25.6|          0|\n",
            "|brian roberts|      20.8|          11.1|     24.2|          1|\n",
            "|brian roberts|      17.5|           3.5|     25.4|          0|\n",
            "|brian roberts|      19.5|           4.0|     19.1|          1|\n",
            "+-------------+----------+--------------+---------+-----------+\n",
            "only showing top 20 rows\n",
            "\n"
          ]
        }
      ]
    },
    {
      "cell_type": "code",
      "source": [
        "from pyspark.ml.feature import VectorAssembler\n",
        "assembler=VectorAssembler(inputCols=['SHOT_CLOCK','CLOSE_DEF_DIST','SHOT_DIST'],\n",
        "                          outputCol='features')\n",
        "data=assembler.transform(df1)\n",
        "data.show(4)"
      ],
      "metadata": {
        "colab": {
          "base_uri": "https://localhost:8080/"
        },
        "id": "t0cqdE0ROBzI",
        "outputId": "26727990-6916-4b7a-87ad-c34a179fa07f"
      },
      "execution_count": 47,
      "outputs": [
        {
          "output_type": "stream",
          "name": "stdout",
          "text": [
            "+-------------+----------+--------------+---------+-----------+---------------+\n",
            "|  player_name|SHOT_CLOCK|CLOSE_DEF_DIST|SHOT_DIST|SHOT_RESULT|       features|\n",
            "+-------------+----------+--------------+---------+-----------+---------------+\n",
            "|brian roberts|      10.8|           1.3|      7.7|          1| [10.8,1.3,7.7]|\n",
            "|brian roberts|       3.4|           6.1|     28.2|          0| [3.4,6.1,28.2]|\n",
            "|brian roberts|      10.3|           3.4|     17.2|          0|[10.3,3.4,17.2]|\n",
            "|brian roberts|      10.9|           1.1|      3.7|          0| [10.9,1.1,3.7]|\n",
            "+-------------+----------+--------------+---------+-----------+---------------+\n",
            "only showing top 4 rows\n",
            "\n"
          ]
        }
      ]
    },
    {
      "cell_type": "code",
      "source": [
        "from pyspark.ml import evaluation\n",
        "eval = ClusteringEvaluator(predictionCol=\"prediction\",\n",
        "                           featuresCol=\"features\",\n",
        "                           metricName=\"silhouette\",\n",
        "                           distanceMeasure=\"squaredEuclidean\")\n",
        "\n"
      ],
      "metadata": {
        "id": "_h4n3dD6XAdI"
      },
      "execution_count": 51,
      "outputs": []
    },
    {
      "cell_type": "code",
      "source": [
        "K=7\n",
        "from pyspark.ml.clustering import KMeans\n",
        "\n",
        "kmeans = KMeans(k=K, seed=1)  # 2 clusters here\n",
        "model = kmeans.fit(data.select('features'))\n",
        "transformed = model.transform(data)\n",
        "dfGroup=transformed\n",
        "\n",
        "\n",
        "centers = model.clusterCenters()\n",
        "print(\"Cluster Centers: \")\n",
        "for center in centers:\n",
        "    print(center)"
      ],
      "metadata": {
        "colab": {
          "base_uri": "https://localhost:8080/"
        },
        "id": "6B89nLBCI48d",
        "outputId": "c3620563-0925-493a-fefa-f0fe30c82e51"
      },
      "execution_count": 56,
      "outputs": [
        {
          "output_type": "stream",
          "name": "stdout",
          "text": [
            "Cluster Centers: \n",
            "[13.43076923  2.41346154  8.34423077]\n",
            "[15.77763158  5.86973684 24.43421053]\n",
            "[5.36923077 2.93076923 9.90384615]\n",
            "[14.05641026  3.94358974 18.48333333]\n",
            "[ 6.89032258  5.30107527 23.30752688]\n",
            "[20.60769231  3.96923077  3.20769231]\n",
            "[20.65789474 11.26315789 23.12631579]\n"
          ]
        }
      ]
    },
    {
      "cell_type": "code",
      "source": [
        "dfGroup.show(4)"
      ],
      "metadata": {
        "colab": {
          "base_uri": "https://localhost:8080/"
        },
        "id": "V0t15eO3OB8D",
        "outputId": "90689d2b-9d8c-487c-ac96-b3cd628b343d"
      },
      "execution_count": 57,
      "outputs": [
        {
          "output_type": "stream",
          "name": "stdout",
          "text": [
            "+-------------+----------+--------------+---------+-----------+---------------+----------+\n",
            "|  player_name|SHOT_CLOCK|CLOSE_DEF_DIST|SHOT_DIST|SHOT_RESULT|       features|prediction|\n",
            "+-------------+----------+--------------+---------+-----------+---------------+----------+\n",
            "|brian roberts|      10.8|           1.3|      7.7|          1| [10.8,1.3,7.7]|         0|\n",
            "|brian roberts|       3.4|           6.1|     28.2|          0| [3.4,6.1,28.2]|         4|\n",
            "|brian roberts|      10.3|           3.4|     17.2|          0|[10.3,3.4,17.2]|         3|\n",
            "|brian roberts|      10.9|           1.1|      3.7|          0| [10.9,1.1,3.7]|         0|\n",
            "+-------------+----------+--------------+---------+-----------+---------------+----------+\n",
            "only showing top 4 rows\n",
            "\n"
          ]
        }
      ]
    },
    {
      "cell_type": "code",
      "source": [
        "dfGroup=cluster.orderBy(\"prediction\", ascending=True)"
      ],
      "metadata": {
        "id": "GEI5aNwVNyn7"
      },
      "execution_count": 58,
      "outputs": []
    },
    {
      "cell_type": "code",
      "source": [
        "import numpy as np\n",
        "temp=np.zeros([K])\n",
        "\n",
        "for i in range(0,K):\n",
        "  x=dfGroup.where(dfGroup.prediction==i).count()\n",
        "  y=dfGroup.where(dfGroup.SHOT_RESULT==1).count()\n",
        "  temp[i]=float(x/y)\n",
        "\n",
        "temp\n",
        "np.argmax(temp,axis=0)"
      ],
      "metadata": {
        "colab": {
          "base_uri": "https://localhost:8080/"
        },
        "id": "3C5-JywtRADI",
        "outputId": "06490e05-b2de-40ec-b41e-8790273e1d76"
      },
      "execution_count": 62,
      "outputs": [
        {
          "output_type": "execute_result",
          "data": {
            "text/plain": [
              "array([0.35616438, 0.52054795, 0.17808219, 0.53424658, 0.6369863 ,\n",
              "       0.0890411 , 0.13013699])"
            ]
          },
          "metadata": {},
          "execution_count": 62
        }
      ]
    },
    {
      "cell_type": "code",
      "source": [
        ""
      ],
      "metadata": {
        "id": "dF7BLC5-NyYb"
      },
      "execution_count": null,
      "outputs": []
    },
    {
      "cell_type": "code",
      "source": [
        ""
      ],
      "metadata": {
        "id": "yuMx_T37NyKH"
      },
      "execution_count": null,
      "outputs": []
    }
  ]
}